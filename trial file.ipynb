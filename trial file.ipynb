{
 "cells": [
  {
   "cell_type": "markdown",
   "metadata": {},
   "source": []
  },
  {
   "cell_type": "code",
   "execution_count": 11,
   "metadata": {},
   "outputs": [],
   "source": [
    "import pandas as pd\n",
    "import numpy as np"
   ]
  },
  {
   "cell_type": "code",
   "execution_count": 17,
   "metadata": {},
   "outputs": [
    {
     "name": "stdout",
     "output_type": "stream",
     "text": [
      "0        8.236058e+08\n",
      "1        1.512708e+09\n",
      "2        1.288604e+09\n",
      "3        1.298118e+09\n",
      "4        8.180694e+08\n",
      "             ...     \n",
      "39995    6.741293e+08\n",
      "39996    2.537546e+09\n",
      "39997    8.447088e+08\n",
      "39998    8.062132e+08\n",
      "39999    1.086422e+09\n",
      "Name: 1, Length: 40000, dtype: float64\n"
     ]
    }
   ],
   "source": [
    "\n",
    "a = pd.read_csv('Regression_SaschaBrown_sklearn.csv', sep=',', header=None)\n",
    "\n",
    "\n",
    "b = np.arange(0, len(a[1]), 1)\n",
    "#make sure b is integers\n",
    "\n",
    "b = b.astype(int)\n",
    "\n",
    "\n",
    "print(a[1])\n",
    "\n",
    "\n",
    "#i want a as csv file with no header and no index, and no comma with b as the first column and a[1] as the second column\n",
    "\n",
    "a = pd.DataFrame({'b': b, 'a': a[1]})\n",
    "\n",
    "a.to_csv('Regression_SaschaBrown_sklearn.csv', sep=',', index=None)\n",
    "\n",
    "#pd.read_csv('Clustering_SaschaBrown_dbscan.csv', sep=',', header=None)\n",
    "\n",
    "#pd.read_csv('Regression_SaschaBrown_sklearn.csv', sep=',', header=None)"
   ]
  },
  {
   "cell_type": "code",
   "execution_count": null,
   "metadata": {},
   "outputs": [],
   "source": []
  }
 ],
 "metadata": {
  "kernelspec": {
   "display_name": "myenv",
   "language": "python",
   "name": "python3"
  },
  "language_info": {
   "codemirror_mode": {
    "name": "ipython",
    "version": 3
   },
   "file_extension": ".py",
   "mimetype": "text/x-python",
   "name": "python",
   "nbconvert_exporter": "python",
   "pygments_lexer": "ipython3",
   "version": "3.12.3"
  }
 },
 "nbformat": 4,
 "nbformat_minor": 2
}
